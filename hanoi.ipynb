{
 "cells": [
  {
   "cell_type": "code",
   "execution_count": 150,
   "metadata": {},
   "outputs": [],
   "source": [
    "def move_peg(pegs: [[]], from_peg: int, to_peg: int) -> bool:\n",
    "    if len(pegs[from_peg]) == 0 or from_peg < 0 or to_peg >= len(pegs):\n",
    "        return False\n",
    "    if not valid_move(pegs[to_peg], pegs[from_peg][-1]):\n",
    "        return False\n",
    "    \n",
    "    disc = pegs[from_peg].pop()\n",
    "        \n",
    "    pegs[to_peg].append(disc)\n",
    "\n",
    "    \n",
    "    return True\n",
    "    \n",
    "def valid_move(peg: [], disc: int) -> bool:\n",
    "    return len(peg) == 0 or peg[-1] > disc\n",
    "    \n",
    "def hanoi(pegs: [[]], from_peg: int, to_peg: int, n: int) -> int:\n",
    "    if n == 1:\n",
    "        move_peg(pegs, from_peg, to_peg)\n",
    "        return 1\n",
    "    \n",
    "    target = 0\n",
    "    while target < len(pegs):\n",
    "        if target != from_peg and target != to_peg:\n",
    "            break\n",
    "        target += 1\n",
    "    steps1 = hanoi(pegs, from_peg, target, n-1)\n",
    "    move_peg(pegs, from_peg, to_peg)\n",
    "    steps2 = hanoi(pegs, target, to_peg, n-1)\n",
    "    return steps1 + steps2 + 1\n",
    "    "
   ]
  },
  {
   "cell_type": "code",
   "execution_count": 163,
   "metadata": {},
   "outputs": [
    {
     "data": {
      "text/plain": [
       "63"
      ]
     },
     "execution_count": 163,
     "metadata": {},
     "output_type": "execute_result"
    }
   ],
   "source": [
    "pegs = [[6, 5, 4, 3, 2, 1], [], []]\n",
    "\n",
    "hanoi(pegs, 1, 2, 6)"
   ]
  },
  {
   "cell_type": "code",
   "execution_count": null,
   "metadata": {},
   "outputs": [],
   "source": []
  },
  {
   "cell_type": "code",
   "execution_count": null,
   "metadata": {},
   "outputs": [],
   "source": []
  }
 ],
 "metadata": {
  "kernelspec": {
   "display_name": "Python 3",
   "language": "python",
   "name": "python3"
  },
  "language_info": {
   "codemirror_mode": {
    "name": "ipython",
    "version": 3
   },
   "file_extension": ".py",
   "mimetype": "text/x-python",
   "name": "python",
   "nbconvert_exporter": "python",
   "pygments_lexer": "ipython3",
   "version": "3.7.3"
  }
 },
 "nbformat": 4,
 "nbformat_minor": 4
}
