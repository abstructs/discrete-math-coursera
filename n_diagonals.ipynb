{
 "cells": [
  {
   "cell_type": "code",
   "execution_count": 308,
   "metadata": {},
   "outputs": [],
   "source": [
    "from copy import deepcopy"
   ]
  },
  {
   "cell_type": "code",
   "execution_count": 309,
   "metadata": {},
   "outputs": [],
   "source": [
    "def create_board(n):\n",
    "    board = []\n",
    "    for i in range(n):\n",
    "        row = []\n",
    "        for j in range(n):\n",
    "            row.append(\"\")\n",
    "        board.append(row)\n",
    "        \n",
    "    return board"
   ]
  },
  {
   "cell_type": "code",
   "execution_count": 310,
   "metadata": {},
   "outputs": [],
   "source": [
    "def row_valid(board: [[]], rowNum: int) -> bool:\n",
    "    row = board[rowNum]\n",
    "    for i in range(len(row) - 1):\n",
    "        if row[i] != \"\" and row[i + 1] != \"\" and row[i] != row[i + 1]:\n",
    "            return False\n",
    "        \n",
    "    return True"
   ]
  },
  {
   "cell_type": "code",
   "execution_count": 311,
   "metadata": {},
   "outputs": [],
   "source": [
    "def col_valid(board: [[]], colNum: int) -> bool:\n",
    "    for i in range(len(board) - 1):\n",
    "        col = board[i][colNum]\n",
    "        if board[i][colNum] != \"\" and board[i + 1][colNum] != \"\" and board[i][colNum] != board[i + 1][colNum]:\n",
    "            return False\n",
    "        \n",
    "    return True"
   ]
  },
  {
   "cell_type": "code",
   "execution_count": 312,
   "metadata": {},
   "outputs": [],
   "source": [
    "def right_diag_valid(board: [[]], startRow: int, startCol: int) -> bool:\n",
    "    i = startRow\n",
    "    j = startCol\n",
    "    while i < len(board)-1 and j < len(board)-1:\n",
    "        if board[i][j] == \"R\" and board[i+1][j+1] == \"R\":\n",
    "            return False\n",
    "        i += 1\n",
    "        j += 1\n",
    "\n",
    "    return True"
   ]
  },
  {
   "cell_type": "code",
   "execution_count": 313,
   "metadata": {},
   "outputs": [],
   "source": [
    "def left_diag_valid(board: [[]], startRow: int, startCol: int) -> bool:\n",
    "    i = startRow\n",
    "    j = startCol\n",
    "    while i < len(board)-1 and j > 0:\n",
    "        if board[i][j] == \"L\" and board[i+1][j-1] == \"L\":\n",
    "            return False\n",
    "        i += 1\n",
    "        j -= 1\n",
    "\n",
    "    return True"
   ]
  },
  {
   "cell_type": "code",
   "execution_count": 314,
   "metadata": {},
   "outputs": [],
   "source": [
    "def valid_diags(board: [[]]) -> bool:\n",
    "    for i in range(len(board)):\n",
    "        if not(right_diag_valid(board, 0, i) and right_diag_valid(board, i, 0)):\n",
    "            return False\n",
    "        if not(left_diag_valid(board, 0, i) and left_diag_valid(board, i, len(board) - 1)):\n",
    "            return False\n",
    "        \n",
    "    return True"
   ]
  },
  {
   "cell_type": "code",
   "execution_count": 315,
   "metadata": {},
   "outputs": [],
   "source": [
    "def valid_board(board: [[]]) -> bool:\n",
    "    if not valid_diags(board):\n",
    "        return False\n",
    "    \n",
    "    for i in range(len(board)):\n",
    "        if not row_valid(board, i) or not col_valid(board, i):\n",
    "            return False\n",
    "        \n",
    "    return True"
   ]
  },
  {
   "cell_type": "code",
   "execution_count": 316,
   "metadata": {},
   "outputs": [],
   "source": [
    "def insert_avail(startRow: int, startCol: int, board: [[]]) -> [[[]]]:\n",
    "    for i in range(startRow, len(board)):\n",
    "        for j in range(startCol, len(board)):\n",
    "            if board[i][j] == \"\":\n",
    "                board1Cpy = deepcopy(board)\n",
    "                board2Cpy = deepcopy(board)\n",
    "                board3Cpy = deepcopy(board)\n",
    "                \n",
    "                board1Cpy[i][j] = \"L\"\n",
    "                board2Cpy[i][j] = \"R\"\n",
    "                return [board1Cpy, board2Cpy, board3Cpy]\n",
    "    return []"
   ]
  },
  {
   "cell_type": "code",
   "execution_count": 317,
   "metadata": {},
   "outputs": [],
   "source": [
    "def line_count(board: [[]]):\n",
    "    count = 0\n",
    "    for i in range(len(board)):\n",
    "        for j in range(len(board)):\n",
    "            if board[i][j] != \"\":\n",
    "                count += 1\n",
    "                \n",
    "    return count"
   ]
  },
  {
   "cell_type": "code",
   "execution_count": 318,
   "metadata": {},
   "outputs": [],
   "source": [
    "def solve(index: int, target: int, board: [[]]) -> [[]]:\n",
    "    if not valid_board(board):\n",
    "        return []\n",
    "    \n",
    "    if line_count(board) == target:\n",
    "        return board\n",
    "    \n",
    "    startRow = int(index / len(board))\n",
    "    startCol = index % len(board) \n",
    "    possible_boards = insert_avail(startRow, startCol, board)\n",
    "\n",
    "    for pboard in possible_boards:\n",
    "        result = solve(index + 1, target, pboard)\n",
    "        if result != []:\n",
    "            return result\n",
    "        \n",
    "    return []"
   ]
  },
  {
   "cell_type": "code",
   "execution_count": 319,
   "metadata": {},
   "outputs": [
    {
     "data": {
      "text/plain": [
       "[['L', 'L', 'L', '', 'R'],\n",
       " ['', '', 'L', '', 'R'],\n",
       " ['R', 'R', '', 'R', 'R'],\n",
       " ['R', '', 'L', '', ''],\n",
       " ['R', '', 'L', 'L', 'L']]"
      ]
     },
     "execution_count": 319,
     "metadata": {},
     "output_type": "execute_result"
    }
   ],
   "source": [
    "solve(0, 16, create_board(5))"
   ]
  },
  {
   "cell_type": "code",
   "execution_count": null,
   "metadata": {},
   "outputs": [],
   "source": []
  }
 ],
 "metadata": {
  "kernelspec": {
   "display_name": "Python 3",
   "language": "python",
   "name": "python3"
  },
  "language_info": {
   "codemirror_mode": {
    "name": "ipython",
    "version": 3
   },
   "file_extension": ".py",
   "mimetype": "text/x-python",
   "name": "python",
   "nbconvert_exporter": "python",
   "pygments_lexer": "ipython3",
   "version": "3.7.3"
  }
 },
 "nbformat": 4,
 "nbformat_minor": 4
}
